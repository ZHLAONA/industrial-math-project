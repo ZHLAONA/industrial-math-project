{
 "cells": [
  {
   "cell_type": "code",
   "execution_count": 1,
   "id": "f3fa0b63-9ffa-4482-b633-a37bd33483b8",
   "metadata": {},
   "outputs": [],
   "source": [
    "import numpy as np\n",
    "from scipy.stats import ttest_ind\n",
    "from scipy.stats import kstest\n",
    "from scipy.stats import describe\n",
    "from scipy.stats import normaltest"
   ]
  },
  {
   "cell_type": "code",
   "execution_count": 2,
   "id": "475e5c75-b5ce-4b0b-8c5d-a8f7748d2803",
   "metadata": {},
   "outputs": [],
   "source": [
    "pA = np.array([35,24,18,42,22,27,49,45,33,38,24,28,25,32,36,12,24])\n",
    "pB = np.array([47,54,52,51,24,39,53,45,47,30,42,50,46,37,28,39,30])\n",
    "pC = np.array([46,31,47,38,50,27,30,25,39,32,46,37,50,49,43,46,35])"
   ]
  },
  {
   "cell_type": "code",
   "execution_count": 3,
   "id": "d2e213ba-52ac-439c-957f-13ee8c07080a",
   "metadata": {},
   "outputs": [
    {
     "name": "stdout",
     "output_type": "stream",
     "text": [
      "NormaltestResult(statistic=0.19489478984511888, pvalue=0.9071500609998573)\n",
      "NormaltestResult(statistic=1.9808951756075186, pvalue=0.37141041504130945)\n",
      "NormaltestResult(statistic=3.3519628932945995, pvalue=0.18712443667882067)\n"
     ]
    },
    {
     "name": "stderr",
     "output_type": "stream",
     "text": [
      "/Users/zihaoli/opt/anaconda3/lib/python3.9/site-packages/scipy/stats/_stats_py.py:1769: UserWarning: kurtosistest only valid for n>=20 ... continuing anyway, n=17\n",
      "  warnings.warn(\"kurtosistest only valid for n>=20 ... continuing \"\n"
     ]
    }
   ],
   "source": [
    "print(normaltest(pA))\n",
    "print(normaltest(pB))\n",
    "print(normaltest(pC))"
   ]
  },
  {
   "cell_type": "code",
   "execution_count": null,
   "id": "d0317405-2286-4ccc-8707-618b1aadd50a",
   "metadata": {},
   "outputs": [],
   "source": []
  },
  {
   "cell_type": "code",
   "execution_count": null,
   "id": "8ea54905-3747-4193-8f4e-fbd3f3027de2",
   "metadata": {},
   "outputs": [],
   "source": []
  }
 ],
 "metadata": {
  "kernelspec": {
   "display_name": "Python 3 (ipykernel)",
   "language": "python",
   "name": "python3"
  },
  "language_info": {
   "codemirror_mode": {
    "name": "ipython",
    "version": 3
   },
   "file_extension": ".py",
   "mimetype": "text/x-python",
   "name": "python",
   "nbconvert_exporter": "python",
   "pygments_lexer": "ipython3",
   "version": "3.9.13"
  }
 },
 "nbformat": 4,
 "nbformat_minor": 5
}
